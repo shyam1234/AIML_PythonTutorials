{
  "nbformat": 4,
  "nbformat_minor": 0,
  "metadata": {
    "colab": {
      "name": "HelloPython.ipynb",
      "version": "0.3.2",
      "provenance": [],
      "collapsed_sections": [],
      "include_colab_link": true
    },
    "kernelspec": {
      "name": "python3",
      "display_name": "Python 3"
    }
  },
  "cells": [
    {
      "cell_type": "markdown",
      "metadata": {
        "id": "view-in-github",
        "colab_type": "text"
      },
      "source": [
        "<a href=\"https://colab.research.google.com/github/shyam1234/PythonTutorials/blob/master/HelloPython.ipynb\" target=\"_parent\"><img src=\"https://colab.research.google.com/assets/colab-badge.svg\" alt=\"Open In Colab\"/></a>"
      ]
    },
    {
      "metadata": {
        "id": "YfcR6JQtXB9u",
        "colab_type": "text"
      },
      "cell_type": "markdown",
      "source": [
        "**Hello world**"
      ]
    },
    {
      "metadata": {
        "id": "ecRFEk5OXF3p",
        "colab_type": "code",
        "colab": {
          "base_uri": "https://localhost:8080/",
          "height": 34
        },
        "outputId": "338cbe29-4441-49e3-f4e4-0b464c32dc0b"
      },
      "cell_type": "code",
      "source": [
        "print (\"Hello World\")"
      ],
      "execution_count": 2,
      "outputs": [
        {
          "output_type": "stream",
          "text": [
            "Hello World\n"
          ],
          "name": "stdout"
        }
      ]
    },
    {
      "metadata": {
        "id": "p3sDMwvvXlIs",
        "colab_type": "code",
        "colab": {
          "base_uri": "https://localhost:8080/",
          "height": 34
        },
        "outputId": "e3b2f657-6f5e-4176-a58d-71ab42f21fc5"
      },
      "cell_type": "code",
      "source": [
        "print (\"I'm Prafull\")"
      ],
      "execution_count": 3,
      "outputs": [
        {
          "output_type": "stream",
          "text": [
            "I'm Prafull\n"
          ],
          "name": "stdout"
        }
      ]
    },
    {
      "metadata": {
        "id": "RmVahiAMXqxy",
        "colab_type": "code",
        "colab": {
          "base_uri": "https://localhost:8080/",
          "height": 34
        },
        "outputId": "f514bf37-3616-4a50-baf9-a7bb1108d663"
      },
      "cell_type": "code",
      "source": [
        "print ('He said \"He will be back in 10 min\"')"
      ],
      "execution_count": 4,
      "outputs": [
        {
          "output_type": "stream",
          "text": [
            "He said \"He will be back in 10 min\"\n"
          ],
          "name": "stdout"
        }
      ]
    },
    {
      "metadata": {
        "id": "7vmfnTYjX6CT",
        "colab_type": "text"
      },
      "cell_type": "markdown",
      "source": [
        "If you notice that double quots and single quots both are working here with spcial character in it. "
      ]
    }
  ]
}