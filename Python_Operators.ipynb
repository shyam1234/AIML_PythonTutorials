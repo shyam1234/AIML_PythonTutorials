{
  "nbformat": 4,
  "nbformat_minor": 0,
  "metadata": {
    "colab": {
      "name": "Python Operators.ipynb",
      "version": "0.3.2",
      "provenance": [],
      "collapsed_sections": [],
      "include_colab_link": true
    },
    "kernelspec": {
      "name": "python3",
      "display_name": "Python 3"
    }
  },
  "cells": [
    {
      "cell_type": "markdown",
      "metadata": {
        "id": "view-in-github",
        "colab_type": "text"
      },
      "source": [
        "<a href=\"https://colab.research.google.com/github/shyam1234/PythonTutorials/blob/master/Python_Operators.ipynb\" target=\"_parent\"><img src=\"https://colab.research.google.com/assets/colab-badge.svg\" alt=\"Open In Colab\"/></a>"
      ]
    },
    {
      "metadata": {
        "id": "MxYGU7FAfoAB",
        "colab_type": "text"
      },
      "cell_type": "markdown",
      "source": [
        "**Python Operators**\n",
        "\n",
        "Operators are used to perform operations on variables and values.\n",
        "Python divides the operators in the following groups:\n",
        "```\n",
        "Arithmetic operators\n",
        "Assignment operators\n",
        "Comparison operators\n",
        "Logical operators\n",
        "Identity operators\n",
        "Membership operators\n",
        "Bitwise operators\n",
        "```\n",
        "\n"
      ]
    },
    {
      "metadata": {
        "id": "TFRDTS5ZgH9v",
        "colab_type": "text"
      },
      "cell_type": "markdown",
      "source": [
        "**Python Arithmetic Operators**\n",
        "\n",
        "Arithmetic operators are used with numeric values to perform common mathematical operations:"
      ]
    },
    {
      "metadata": {
        "id": "8SV-rIYdgLwd",
        "colab_type": "code",
        "colab": {
          "base_uri": "https://localhost:8080/",
          "height": 34
        },
        "outputId": "b07a3c2a-0bea-434a-d821-a0e14b502db8"
      },
      "cell_type": "code",
      "source": [
        "a = 5 + 4 \n",
        "print (a)"
      ],
      "execution_count": 1,
      "outputs": [
        {
          "output_type": "stream",
          "text": [
            "9\n"
          ],
          "name": "stdout"
        }
      ]
    },
    {
      "metadata": {
        "id": "uD6xfhyRgdp2",
        "colab_type": "text"
      },
      "cell_type": "markdown",
      "source": [
        "**Python Assignment Operators**\n",
        "\n",
        "Assignment operators are used to assign values to variables:"
      ]
    },
    {
      "metadata": {
        "id": "7QkXBUj4gVrP",
        "colab_type": "code",
        "colab": {
          "base_uri": "https://localhost:8080/",
          "height": 34
        },
        "outputId": "d3b1c4a8-95c1-4a9c-8bfc-910d432d6b53"
      },
      "cell_type": "code",
      "source": [
        "x = 30\n",
        "x /= 3\n",
        "print(x)"
      ],
      "execution_count": 3,
      "outputs": [
        {
          "output_type": "stream",
          "text": [
            "10.0\n"
          ],
          "name": "stdout"
        }
      ]
    },
    {
      "metadata": {
        "id": "paCzGI2agocr",
        "colab_type": "code",
        "colab": {
          "base_uri": "https://localhost:8080/",
          "height": 34
        },
        "outputId": "f97ce3e0-a068-43ee-ff1b-736cc0ff273d"
      },
      "cell_type": "code",
      "source": [
        "x= 34\n",
        "x %= 3\n",
        "print(x)"
      ],
      "execution_count": 6,
      "outputs": [
        {
          "output_type": "stream",
          "text": [
            "1\n"
          ],
          "name": "stdout"
        }
      ]
    },
    {
      "metadata": {
        "id": "TBpiIIh4gvrl",
        "colab_type": "code",
        "colab": {
          "base_uri": "https://localhost:8080/",
          "height": 34
        },
        "outputId": "93a45543-c164-4e6a-8397-41a301c8cdc4"
      },
      "cell_type": "code",
      "source": [
        "x=40\n",
        "x //= 3\n",
        "print(x)"
      ],
      "execution_count": 7,
      "outputs": [
        {
          "output_type": "stream",
          "text": [
            "13\n"
          ],
          "name": "stdout"
        }
      ]
    },
    {
      "metadata": {
        "id": "Lenr3lMyguYm",
        "colab_type": "code",
        "colab": {
          "base_uri": "https://localhost:8080/",
          "height": 34
        },
        "outputId": "c0a8c36f-72b8-4763-a9a9-ea4d2783920c"
      },
      "cell_type": "code",
      "source": [
        "x=2\n",
        "x **= 3\n",
        "print(x)"
      ],
      "execution_count": 8,
      "outputs": [
        {
          "output_type": "stream",
          "text": [
            "8\n"
          ],
          "name": "stdout"
        }
      ]
    },
    {
      "metadata": {
        "id": "za7d7dCwgtB3",
        "colab_type": "code",
        "colab": {
          "base_uri": "https://localhost:8080/",
          "height": 34
        },
        "outputId": "20f1a756-b43a-4ade-998b-a03cf843347f"
      },
      "cell_type": "code",
      "source": [
        "x=40\n",
        "x >>= 3\n",
        "print(x)"
      ],
      "execution_count": 10,
      "outputs": [
        {
          "output_type": "stream",
          "text": [
            "5\n"
          ],
          "name": "stdout"
        }
      ]
    },
    {
      "metadata": {
        "id": "G91FMBI7hFvl",
        "colab_type": "text"
      },
      "cell_type": "markdown",
      "source": [
        "**Python Comparison Operators**\n",
        "\n",
        "Comparison operators are used to compare two values:"
      ]
    },
    {
      "metadata": {
        "id": "Z2MmBlzqglD2",
        "colab_type": "code",
        "colab": {
          "base_uri": "https://localhost:8080/",
          "height": 34
        },
        "outputId": "fdabda64-e2b8-4726-81b8-967521467d6d"
      },
      "cell_type": "code",
      "source": [
        "x= 20\n",
        "y= 10\n",
        "z = x >= y\n",
        "print(z)"
      ],
      "execution_count": 11,
      "outputs": [
        {
          "output_type": "stream",
          "text": [
            "True\n"
          ],
          "name": "stdout"
        }
      ]
    },
    {
      "metadata": {
        "id": "7_0nlZPLhTwl",
        "colab_type": "text"
      },
      "cell_type": "markdown",
      "source": [
        "**Python Logical Operators**\n",
        "\n",
        "Logical operators are used to combine conditional statements:"
      ]
    },
    {
      "metadata": {
        "id": "-dBgSQ6-hQdA",
        "colab_type": "code",
        "colab": {
          "base_uri": "https://localhost:8080/",
          "height": 51
        },
        "outputId": "380434c6-8aea-4c8e-cd41-8265108df132"
      },
      "cell_type": "code",
      "source": [
        "x = 2\n",
        "print(not(x < 5 and x < 10))\n",
        "print(x)"
      ],
      "execution_count": 15,
      "outputs": [
        {
          "output_type": "stream",
          "text": [
            "False\n",
            "2\n"
          ],
          "name": "stdout"
        }
      ]
    },
    {
      "metadata": {
        "id": "v1FbUVNnhkQb",
        "colab_type": "text"
      },
      "cell_type": "markdown",
      "source": [
        "**Python Identity Operators**\n",
        "\n",
        "Identity operators are used to compare the objects, not if they are equal, but if they are actually the same object, with the same memory location\n",
        "\n"
      ]
    },
    {
      "metadata": {
        "id": "P7_t0LHthZ0L",
        "colab_type": "code",
        "colab": {
          "base_uri": "https://localhost:8080/",
          "height": 34
        },
        "outputId": "047fd292-4f9f-41e7-b419-8056fa045588"
      },
      "cell_type": "code",
      "source": [
        "x = 3\n",
        "y = 2\n",
        "print (x is not y)"
      ],
      "execution_count": 17,
      "outputs": [
        {
          "output_type": "stream",
          "text": [
            "True\n"
          ],
          "name": "stdout"
        }
      ]
    },
    {
      "metadata": {
        "id": "K7hTlvu1hX45",
        "colab_type": "code",
        "colab": {
          "base_uri": "https://localhost:8080/",
          "height": 34
        },
        "outputId": "1d780577-fa2a-4809-a2c1-ed9351d8afb8"
      },
      "cell_type": "code",
      "source": [
        "x = 3\n",
        "y = 3\n",
        "print (x is y)"
      ],
      "execution_count": 18,
      "outputs": [
        {
          "output_type": "stream",
          "text": [
            "True\n"
          ],
          "name": "stdout"
        }
      ]
    },
    {
      "metadata": {
        "id": "lHT31IRjibmR",
        "colab_type": "text"
      },
      "cell_type": "markdown",
      "source": [
        "**Python Membership Operators**\n",
        "\n",
        "Membership operators are used to test if a sequence is presented in an object\n"
      ]
    },
    {
      "metadata": {
        "id": "M_P2Q_0Oie2V",
        "colab_type": "code",
        "colab": {
          "base_uri": "https://localhost:8080/",
          "height": 34
        },
        "outputId": "40f7dae9-c94e-411f-bcf8-90504581488a"
      },
      "cell_type": "code",
      "source": [
        "x = [\"apple\", \"banana\"]\n",
        "print(\"banana\" in x)\n",
        "\n",
        "# returns True because a sequence with the value \"banana\" is in the list"
      ],
      "execution_count": 20,
      "outputs": [
        {
          "output_type": "stream",
          "text": [
            "True\n"
          ],
          "name": "stdout"
        }
      ]
    },
    {
      "metadata": {
        "id": "K0ZkChefinB-",
        "colab_type": "code",
        "colab": {
          "base_uri": "https://localhost:8080/",
          "height": 34
        },
        "outputId": "b616c86d-1246-4167-d89a-259a24d35d95"
      },
      "cell_type": "code",
      "source": [
        "x = [\"apple\", \"banana\"]\n",
        "\n",
        "print(\"pineapple\" not in x)\n",
        "\n",
        "# returns True because a sequence with the value \"pineapple\" is not in the list"
      ],
      "execution_count": 21,
      "outputs": [
        {
          "output_type": "stream",
          "text": [
            "True\n"
          ],
          "name": "stdout"
        }
      ]
    },
    {
      "metadata": {
        "id": "ApVhyjIXjF-R",
        "colab_type": "text"
      },
      "cell_type": "markdown",
      "source": [
        "**Python Bitwise Operators**\n",
        "\n",
        "Bitwise operators are used to compare (binary) numbers:"
      ]
    },
    {
      "metadata": {
        "id": "rNgDGOIPi02F",
        "colab_type": "code",
        "colab": {}
      },
      "cell_type": "code",
      "source": [
        "# & AND\tSets each bit to 1 if both bits are 1\n",
        "# |\tOR\tSets each bit to 1 if one of two bits is 1\n",
        "# ^\tXOR\tSets each bit to 1 if only one of two bits is 1\n",
        "# ~ \tNOT\tInverts all the bits\n",
        "# <<\tZero fill left shift\tShift left by pushing zeros in from the right and let the leftmost bits fall off\n",
        "# >>\tSigned right shift\tShift right by pushing copies of the leftmost bit in from the left, and let the rightmost bits fall off\n",
        "\n"
      ],
      "execution_count": 0,
      "outputs": []
    },
    {
      "metadata": {
        "id": "HJWWZ380fnkd",
        "colab_type": "text"
      },
      "cell_type": "markdown",
      "source": [
        ""
      ]
    }
  ]
}