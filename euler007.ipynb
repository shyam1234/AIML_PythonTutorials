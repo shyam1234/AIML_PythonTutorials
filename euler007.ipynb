{
 "cells": [
  {
   "cell_type": "markdown",
   "metadata": {},
   "source": [
    "# Euler 7\n",
    "By listing the first six prime numbers: 2, 3, 5, 7, 11, and 13, we can see that the 6th prime is 13.\n",
    "\n",
    "What is the $10,001^{th}$ prime number?\n",
    "\n"
   ]
  },
  {
   "cell_type": "code",
   "execution_count": 3,
   "metadata": {},
   "outputs": [],
   "source": [
    "### Prime generation is time consuming so i am skipping bad implementations\n",
    "def isPrime(n):\n",
    "    if n in [2, 3, 5]:\n",
    "        return True\n",
    "    if n % 2 == 0:\n",
    "        return False\n",
    "    r = 3\n",
    "    while r * r <= n:\n",
    "        if n % r == 0:\n",
    "            return False\n",
    "        r += 2\n",
    "    return True"
   ]
  },
  {
   "cell_type": "code",
   "execution_count": 11,
   "metadata": {},
   "outputs": [
    {
     "data": {
      "text/plain": [
       "(False, False, True)"
      ]
     },
     "execution_count": 11,
     "metadata": {},
     "output_type": "execute_result"
    }
   ],
   "source": [
    "isPrime(1001), isPrime(10001),isPrime(101)"
   ]
  },
  {
   "cell_type": "code",
   "execution_count": 17,
   "metadata": {},
   "outputs": [],
   "source": [
    "### Memory hog\n",
    "def makePrimes(n):\n",
    "    primes = [2, 3, 5]\n",
    "    if n <= 3:\n",
    "        return primes[:n]\n",
    "    num = 7\n",
    "    while len(primes) < n:\n",
    "        if isPrime(num):\n",
    "            primes.append(num)\n",
    "        num += 2\n",
    "    return primes"
   ]
  },
  {
   "cell_type": "code",
   "execution_count": 22,
   "metadata": {},
   "outputs": [
    {
     "name": "stdout",
     "output_type": "stream",
     "text": [
      "[2, 3, 5, 7, 11, 13] [2, 3, 5, 7, 11, 13, 17, 19, 23, 29]\n"
     ]
    }
   ],
   "source": [
    "print(makePrimes(6), makePrimes(10))"
   ]
  },
  {
   "cell_type": "code",
   "execution_count": 23,
   "metadata": {},
   "outputs": [
    {
     "name": "stdout",
     "output_type": "stream",
     "text": [
      "104743\n"
     ]
    }
   ],
   "source": [
    "print(makePrimes(10001)[-1])"
   ]
  },
  {
   "cell_type": "markdown",
   "metadata": {},
   "source": [
    "For some brilliant algorithms, look here:\n",
    "\n",
    "http://code.activestate.com/recipes/117119-sieve-of-eratosthenes/\n"
   ]
  },
  {
   "cell_type": "code",
   "execution_count": null,
   "metadata": {},
   "outputs": [],
   "source": [
    "def primeGen(n):\n",
    "    if n < 3:\n",
    "        yield 2\n",
    "    if n < 5:\n",
    "        yield 3\n",
    "    yield 5\n",
    "    r = 7\n",
    "    while r <= n:\n",
    "        if isPrime(r):\n",
    "            yield r\n",
    "        r += 2\n"
   ]
  }
 ],
 "metadata": {
  "kernelspec": {
   "display_name": "Python 3",
   "language": "python",
   "name": "python3"
  },
  "language_info": {
   "codemirror_mode": {
    "name": "ipython",
    "version": 3
   },
   "file_extension": ".py",
   "mimetype": "text/x-python",
   "name": "python",
   "nbconvert_exporter": "python",
   "pygments_lexer": "ipython3",
   "version": "3.6.6"
  }
 },
 "nbformat": 4,
 "nbformat_minor": 2
}
