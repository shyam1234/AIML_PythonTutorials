{
  "nbformat": 4,
  "nbformat_minor": 0,
  "metadata": {
    "colab": {
      "name": "Python Classes and Objects.ipynb",
      "version": "0.3.2",
      "provenance": [],
      "collapsed_sections": [],
      "include_colab_link": true
    },
    "kernelspec": {
      "name": "python3",
      "display_name": "Python 3"
    }
  },
  "cells": [
    {
      "cell_type": "markdown",
      "metadata": {
        "id": "view-in-github",
        "colab_type": "text"
      },
      "source": [
        "<a href=\"https://colab.research.google.com/github/shyam1234/PythonTutorials/blob/master/Python_Classes_and_Objects.ipynb\" target=\"_parent\"><img src=\"https://colab.research.google.com/assets/colab-badge.svg\" alt=\"Open In Colab\"/></a>"
      ]
    },
    {
      "metadata": {
        "id": "4uISl2-lpuNq",
        "colab_type": "text"
      },
      "cell_type": "markdown",
      "source": [
        "**Python Classes and Objects**\n",
        "\n",
        "Python is an object oriented programming language.\n",
        "\n",
        "Almost everything in Python is an object, with its properties and methods.\n",
        "\n",
        "A Class is like an object constructor, or a \"blueprint\" for creating objects."
      ]
    },
    {
      "metadata": {
        "id": "JwqUOyF9pyVa",
        "colab_type": "code",
        "colab": {}
      },
      "cell_type": "code",
      "source": [
        "#Create a Class\n",
        "#To create a class, use the keyword class:\n",
        "class MyClass:\n",
        "  x = 5"
      ],
      "execution_count": 0,
      "outputs": []
    },
    {
      "metadata": {
        "id": "cUUar2QYp2op",
        "colab_type": "code",
        "colab": {
          "base_uri": "https://localhost:8080/",
          "height": 34
        },
        "outputId": "477874f8-cd3e-43fa-a955-2fe3828a1818"
      },
      "cell_type": "code",
      "source": [
        "#Create Object\n",
        "#Now we can use the class named myClass to create objects:\n",
        "p1 = MyClass()\n",
        "print(p1.x)"
      ],
      "execution_count": 2,
      "outputs": [
        {
          "output_type": "stream",
          "text": [
            "5\n"
          ],
          "name": "stdout"
        }
      ]
    },
    {
      "metadata": {
        "id": "g4Lu0pEVp9i2",
        "colab_type": "text"
      },
      "cell_type": "markdown",
      "source": [
        "**The __init__() Function**\n",
        "\n",
        "The examples above are classes and objects in their simplest form, and are not really useful in real life applications.\n",
        "\n",
        "To understand the meaning of classes we have to understand the built-in __init__() function.\n",
        "\n",
        "All classes have a function called __init__(), which is always executed when the class is being initiated.\n",
        "\n",
        "Use the __init__() function to assign values to object properties, or other operations that are necessary to do when the object is being created:"
      ]
    },
    {
      "metadata": {
        "id": "5JH2yE5up_oV",
        "colab_type": "code",
        "colab": {
          "base_uri": "https://localhost:8080/",
          "height": 51
        },
        "outputId": "b29f7bc8-6e7d-4db3-fca1-aa58dd8aef46"
      },
      "cell_type": "code",
      "source": [
        "#Create a class named Person, use the __init__() function to assign values for name and age:\n",
        "class Person:\n",
        "  def __init__(self, name, age):\n",
        "    self.name = name\n",
        "    self.age = age\n",
        "    \n",
        "p1 = Person(\"John\", 36)\n",
        "\n",
        "print(p1.name)\n",
        "print(p1.age)\n",
        "\n",
        "#Note: The __init__() function is called automatically every time the class is being used to create a new object."
      ],
      "execution_count": 3,
      "outputs": [
        {
          "output_type": "stream",
          "text": [
            "John\n",
            "36\n"
          ],
          "name": "stdout"
        }
      ]
    },
    {
      "metadata": {
        "id": "qvDgsY0pqXWR",
        "colab_type": "text"
      },
      "cell_type": "markdown",
      "source": [
        "**Object Methods**\n",
        "\n",
        "\n",
        "Objects can also contain methods. Methods in objects are functions that belongs to the object.\n",
        "\n",
        "Let us create a method in the Person class:"
      ]
    },
    {
      "metadata": {
        "id": "y7BO-OMPqTE6",
        "colab_type": "code",
        "colab": {
          "base_uri": "https://localhost:8080/",
          "height": 34
        },
        "outputId": "c1fc7d43-bb5b-4c7a-e996-a0878dd75351"
      },
      "cell_type": "code",
      "source": [
        "#Insert a function that prints a greeting, and execute it on the p1 object:\n",
        "class Person:\n",
        "  def __init__(self, name, age):\n",
        "    self.name = name\n",
        "    self.age = age\n",
        "\n",
        "  def myfunc(self):\n",
        "    print(\"Hello my name is \" + self.name)\n",
        "\n",
        "p1 = Person(\"John\", 36)\n",
        "p1.myfunc()\n",
        "\n",
        "#Note: The self parameter is a reference to the class instance itself, and is used to access variables that belongs to the class."
      ],
      "execution_count": 4,
      "outputs": [
        {
          "output_type": "stream",
          "text": [
            "Hello my name is John\n"
          ],
          "name": "stdout"
        }
      ]
    },
    {
      "metadata": {
        "id": "SzLk7lc_qiju",
        "colab_type": "text"
      },
      "cell_type": "markdown",
      "source": [
        "**The self Parameter**\n",
        "\n",
        "\n",
        "The self parameter is a reference to the class itself, and is used to access variables that belongs to the class.\n",
        "\n",
        "It does not have to be named self , you can call it whatever you like, but it has to be the first parameter of any function in the class:"
      ]
    },
    {
      "metadata": {
        "id": "D1OsM7LPqdvd",
        "colab_type": "code",
        "colab": {}
      },
      "cell_type": "code",
      "source": [
        "#Use the words mysillyobject and abc instead of self:\n",
        "class Person:\n",
        "  def __init__(mysillyobject, name, age):\n",
        "    mysillyobject.name = name\n",
        "    mysillyobject.age = age\n",
        "\n",
        "  def myfunc(abc):\n",
        "    print(\"Hello my name is \" + abc.name)\n",
        "\n",
        "p1 = Person(\"John\", 36)\n",
        "p1.myfunc()"
      ],
      "execution_count": 0,
      "outputs": []
    },
    {
      "metadata": {
        "id": "zGCF4bS2quN3",
        "colab_type": "code",
        "colab": {}
      },
      "cell_type": "code",
      "source": [
        "#Modify Object Properties\n",
        "#You can modify properties on objects like this:\n",
        "#Set the age of p1 to 40:\n",
        "p1.age = 40"
      ],
      "execution_count": 0,
      "outputs": []
    },
    {
      "metadata": {
        "id": "9eWijMvWqzVC",
        "colab_type": "code",
        "colab": {}
      },
      "cell_type": "code",
      "source": [
        "#Delete Object Properties\n",
        "#You can delete properties on objects by using the del keyword:\n",
        "\n",
        "#Delete the age property from the p1 object:\n",
        "del p1.age\n"
      ],
      "execution_count": 0,
      "outputs": []
    },
    {
      "metadata": {
        "id": "xNdS-ixhq6ZZ",
        "colab_type": "code",
        "colab": {}
      },
      "cell_type": "code",
      "source": [
        "#Delete Objects\n",
        "#You can delete objects by using the del keyword:\n",
        "\n",
        "#Delete the p1 object:\n",
        "del p1"
      ],
      "execution_count": 0,
      "outputs": []
    },
    {
      "metadata": {
        "id": "S1Ye5CgXrA6r",
        "colab_type": "code",
        "colab": {}
      },
      "cell_type": "code",
      "source": [
        "print(p1)\n",
        "\n",
        "#It will throw \"NameError: name 'p1' is not defined\""
      ],
      "execution_count": 0,
      "outputs": []
    },
    {
      "metadata": {
        "id": "W58WNEDwrDIw",
        "colab_type": "code",
        "colab": {}
      },
      "cell_type": "code",
      "source": [
        ""
      ],
      "execution_count": 0,
      "outputs": []
    }
  ]
}