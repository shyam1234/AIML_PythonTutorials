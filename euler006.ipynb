{
 "cells": [
  {
   "cell_type": "markdown",
   "metadata": {},
   "source": [
    "# EULER 6\n",
    "The sum of the squares of the first ten natural numbers is,\n",
    "\n",
    "$1^2 + 2^2 + ... + 10^2 = 385$\n",
    "The square of the sum of the first ten natural numbers is,\n",
    "\n",
    "$(1 + 2 + ... + 10)^2 = 55^2 = 3025$\n",
    "Hence the difference between the sum of the squares of the first ten natural numbers and the square of the sum is $3025 − 385 = 2640$.\n",
    "\n",
    "Find the difference between the sum of the squares of the first one hundred natural numbers and the square of the sum."
   ]
  },
  {
   "cell_type": "code",
   "execution_count": 4,
   "metadata": {},
   "outputs": [],
   "source": [
    "### Simple while loop\n",
    "def euler006w(LIMIT):\n",
    "    squareSum = 0\n",
    "    sum_to_n = 0\n",
    "    n = 1\n",
    "    while n < LIMIT:\n",
    "        squareSum += n * n\n",
    "        sum_to_n += n\n",
    "        n += 1\n",
    "    sumSquared = sum_to_n * sum_to_n\n",
    "    return sumSquared - squareSum"
   ]
  },
  {
   "cell_type": "code",
   "execution_count": 5,
   "metadata": {},
   "outputs": [
    {
     "data": {
      "text/plain": [
       "25164150"
      ]
     },
     "execution_count": 5,
     "metadata": {},
     "output_type": "execute_result"
    }
   ],
   "source": [
    "euler006w(101)"
   ]
  },
  {
   "cell_type": "code",
   "execution_count": 6,
   "metadata": {},
   "outputs": [],
   "source": [
    "### Simple for loops\n",
    "def euler006f(n):\n",
    "    squareSum = 0\n",
    "    sum_to_n = sum(range(1, LIMIT))\n",
    "    for n in range(1, LIMIT):\n",
    "        squareSum += n * n\n",
    "    sumSquared = sum_to_n * sum_to_n\n",
    "    return sumSquared - squareSum"
   ]
  },
  {
   "cell_type": "code",
   "execution_count": 7,
   "metadata": {},
   "outputs": [
    {
     "data": {
      "text/plain": [
       "25164150"
      ]
     },
     "execution_count": 7,
     "metadata": {},
     "output_type": "execute_result"
    }
   ],
   "source": [
    "euler006f(101)"
   ]
  },
  {
   "cell_type": "code",
   "execution_count": 10,
   "metadata": {},
   "outputs": [],
   "source": [
    "### list comprehensions\n",
    "def euler006lc(n):\n",
    "    return sum(range(n)) ** 2 - sum([x * x for x in range(n)]) "
   ]
  },
  {
   "cell_type": "code",
   "execution_count": 11,
   "metadata": {},
   "outputs": [
    {
     "data": {
      "text/plain": [
       "25164150"
      ]
     },
     "execution_count": 11,
     "metadata": {},
     "output_type": "execute_result"
    }
   ],
   "source": [
    "euler006lc(101)"
   ]
  },
  {
   "cell_type": "code",
   "execution_count": null,
   "metadata": {},
   "outputs": [],
   "source": []
  }
 ],
 "metadata": {
  "kernelspec": {
   "display_name": "Python 3",
   "language": "python",
   "name": "python3"
  },
  "language_info": {
   "codemirror_mode": {
    "name": "ipython",
    "version": 3
   },
   "file_extension": ".py",
   "mimetype": "text/x-python",
   "name": "python",
   "nbconvert_exporter": "python",
   "pygments_lexer": "ipython3",
   "version": "3.6.6"
  }
 },
 "nbformat": 4,
 "nbformat_minor": 2
}
